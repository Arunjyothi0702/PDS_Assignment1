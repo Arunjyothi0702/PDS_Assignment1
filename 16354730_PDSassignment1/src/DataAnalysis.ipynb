{
 "cells": [
  {
   "cell_type": "code",
   "execution_count": 1,
   "id": "ad690193",
   "metadata": {},
   "outputs": [
    {
     "data": {
      "text/html": [
       "<div>\n",
       "<style scoped>\n",
       "    .dataframe tbody tr th:only-of-type {\n",
       "        vertical-align: middle;\n",
       "    }\n",
       "\n",
       "    .dataframe tbody tr th {\n",
       "        vertical-align: top;\n",
       "    }\n",
       "\n",
       "    .dataframe thead th {\n",
       "        text-align: right;\n",
       "    }\n",
       "</style>\n",
       "<table border=\"1\" class=\"dataframe\">\n",
       "  <thead>\n",
       "    <tr style=\"text-align: right;\">\n",
       "      <th></th>\n",
       "      <th>Height</th>\n",
       "      <th>Weight</th>\n",
       "      <th>Age</th>\n",
       "      <th>Grip strength</th>\n",
       "      <th>Frailty</th>\n",
       "    </tr>\n",
       "  </thead>\n",
       "  <tbody>\n",
       "    <tr>\n",
       "      <th>0</th>\n",
       "      <td>65.8</td>\n",
       "      <td>112</td>\n",
       "      <td>30</td>\n",
       "      <td>30</td>\n",
       "      <td>N</td>\n",
       "    </tr>\n",
       "    <tr>\n",
       "      <th>1</th>\n",
       "      <td>71.5</td>\n",
       "      <td>136</td>\n",
       "      <td>19</td>\n",
       "      <td>31</td>\n",
       "      <td>N</td>\n",
       "    </tr>\n",
       "    <tr>\n",
       "      <th>2</th>\n",
       "      <td>69.4</td>\n",
       "      <td>153</td>\n",
       "      <td>45</td>\n",
       "      <td>29</td>\n",
       "      <td>N</td>\n",
       "    </tr>\n",
       "    <tr>\n",
       "      <th>3</th>\n",
       "      <td>68.2</td>\n",
       "      <td>142</td>\n",
       "      <td>22</td>\n",
       "      <td>28</td>\n",
       "      <td>Y</td>\n",
       "    </tr>\n",
       "    <tr>\n",
       "      <th>4</th>\n",
       "      <td>67.8</td>\n",
       "      <td>144</td>\n",
       "      <td>29</td>\n",
       "      <td>24</td>\n",
       "      <td>Y</td>\n",
       "    </tr>\n",
       "    <tr>\n",
       "      <th>5</th>\n",
       "      <td>68.7</td>\n",
       "      <td>123</td>\n",
       "      <td>50</td>\n",
       "      <td>26</td>\n",
       "      <td>N</td>\n",
       "    </tr>\n",
       "    <tr>\n",
       "      <th>6</th>\n",
       "      <td>69.8</td>\n",
       "      <td>141</td>\n",
       "      <td>51</td>\n",
       "      <td>22</td>\n",
       "      <td>Y</td>\n",
       "    </tr>\n",
       "    <tr>\n",
       "      <th>7</th>\n",
       "      <td>70.1</td>\n",
       "      <td>136</td>\n",
       "      <td>23</td>\n",
       "      <td>20</td>\n",
       "      <td>Y</td>\n",
       "    </tr>\n",
       "    <tr>\n",
       "      <th>8</th>\n",
       "      <td>67.9</td>\n",
       "      <td>112</td>\n",
       "      <td>17</td>\n",
       "      <td>19</td>\n",
       "      <td>N</td>\n",
       "    </tr>\n",
       "    <tr>\n",
       "      <th>9</th>\n",
       "      <td>66.8</td>\n",
       "      <td>120</td>\n",
       "      <td>39</td>\n",
       "      <td>31</td>\n",
       "      <td>N</td>\n",
       "    </tr>\n",
       "  </tbody>\n",
       "</table>\n",
       "</div>"
      ],
      "text/plain": [
       "   Height  Weight  Age  Grip strength Frailty\n",
       "0    65.8     112   30             30       N\n",
       "1    71.5     136   19             31       N\n",
       "2    69.4     153   45             29       N\n",
       "3    68.2     142   22             28       Y\n",
       "4    67.8     144   29             24       Y\n",
       "5    68.7     123   50             26       N\n",
       "6    69.8     141   51             22       Y\n",
       "7    70.1     136   23             20       Y\n",
       "8    67.9     112   17             19       N\n",
       "9    66.8     120   39             31       N"
      ]
     },
     "execution_count": 1,
     "metadata": {},
     "output_type": "execute_result"
    }
   ],
   "source": [
    "import pandas as pd\n",
    "df = pd.read_csv(\"../data_clean/DataClean_rawdata.csv\")\n",
    "df"
   ]
  },
  {
   "cell_type": "code",
   "execution_count": 2,
   "id": "79114cd0",
   "metadata": {},
   "outputs": [],
   "source": [
    "df['Frailty'] = df['Frailty'].map({'N': 0, 'Y': 1})"
   ]
  },
  {
   "cell_type": "code",
   "execution_count": 4,
   "id": "406bcf86",
   "metadata": {},
   "outputs": [
    {
     "name": "stdout",
     "output_type": "stream",
     "text": [
      "Co-relation between Weight and Frailty: 0.5352001404158715\n"
     ]
    }
   ],
   "source": [
    "corelationWeightFrailty  = df['Weight'].corr(df['Frailty'])\n",
    "\n",
    "print(\"Co-relation between Weight and Frailty:\", corelationWeightFrailty)"
   ]
  },
  {
   "cell_type": "code",
   "execution_count": 5,
   "id": "0b63f52c",
   "metadata": {},
   "outputs": [
    {
     "name": "stdout",
     "output_type": "stream",
     "text": [
      "Co-relation between Height and Frailty: 0.19318607577310287\n"
     ]
    }
   ],
   "source": [
    "corelationHeightFrailty = df['Height'].corr(df['Frailty'])\n",
    "\n",
    "print(\"Co-relation between Height and Frailty:\",corelationHeightFrailty)"
   ]
  },
  {
   "cell_type": "code",
   "execution_count": 6,
   "id": "8ae73d6a",
   "metadata": {},
   "outputs": [],
   "source": [
    "with open('../results/results.txt', 'w') as file:\n",
    "    file.write(\"Data Analysis Results:\\n\")\n",
    "    file.write(\"-\" * 30 + \"\\n\")\n",
    "    file.write(\"Co-relation between Weight and Frailty: {}\\n\".format(corelationWeightFrailty))\n",
    "    file.write(\"Co-relation between Height and Frailty: {}\\n\".format(corelationHeightFrailty))"
   ]
  },
  {
   "cell_type": "code",
   "execution_count": 8,
   "id": "1ed2aafe",
   "metadata": {},
   "outputs": [
    {
     "name": "stdout",
     "output_type": "stream",
     "text": [
      "Co-relation between Age and Frailty: -0.08365462639775026\n"
     ]
    }
   ],
   "source": [
    "corelationAgeFrailty  = df['Age'].corr(df['Frailty'])\n",
    "\n",
    "print(\"Co-relation between Age and Frailty:\", corelationAgeFrailty)"
   ]
  },
  {
   "cell_type": "code",
   "execution_count": 11,
   "id": "f506bb09",
   "metadata": {},
   "outputs": [
    {
     "name": "stdout",
     "output_type": "stream",
     "text": [
      "Co-relation between GripStrength and Frailty: -0.4758668672668007\n"
     ]
    }
   ],
   "source": [
    "corelationGripstrengthFrailty  = df['Grip strength'].corr(df['Frailty'])\n",
    "\n",
    "print(\"Co-relation between GripStrength and Frailty:\", corelationGripstrengthFrailty)"
   ]
  },
  {
   "cell_type": "code",
   "execution_count": 12,
   "id": "5da8c828",
   "metadata": {},
   "outputs": [],
   "source": [
    "with open('../results/results.txt', 'w') as file:\n",
    "    file.write(\"Data Analysis Results:\\n\")\n",
    "    file.write(\"-\" * 30 + \"\\n\")\n",
    "    file.write(\"Co-relation between Weight and Frailty: {}\\n\".format(corelationWeightFrailty))\n",
    "    file.write(\"Co-relation between Height and Frailty: {}\\n\".format(corelationHeightFrailty))\n",
    "    file.write(\"Co-relation between Age and Frailty: {}\\n\".format(corelationAgeFrailty))\n",
    "    file.write(\"Co-relation between GripStrength and Frailty: {}\\n\".format(corelationGripstrengthFrailty))\n",
    "    "
   ]
  },
  {
   "cell_type": "code",
   "execution_count": null,
   "id": "5e020c90",
   "metadata": {},
   "outputs": [],
   "source": []
  }
 ],
 "metadata": {
  "kernelspec": {
   "display_name": "Python 3 (ipykernel)",
   "language": "python",
   "name": "python3"
  },
  "language_info": {
   "codemirror_mode": {
    "name": "ipython",
    "version": 3
   },
   "file_extension": ".py",
   "mimetype": "text/x-python",
   "name": "python",
   "nbconvert_exporter": "python",
   "pygments_lexer": "ipython3",
   "version": "3.11.5"
  }
 },
 "nbformat": 4,
 "nbformat_minor": 5
}
